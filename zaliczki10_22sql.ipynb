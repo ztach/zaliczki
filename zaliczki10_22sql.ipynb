{
  "nbformat": 4,
  "nbformat_minor": 0,
  "metadata": {
    "colab": {
      "private_outputs": true,
      "provenance": [],
      "mount_file_id": "15hTT7I63STrChS9idjJFafrOsbi1dNDC",
      "authorship_tag": "ABX9TyP3SbxyqHV7xtzb8O7+EYzg",
      "include_colab_link": true
    },
    "kernelspec": {
      "name": "python3",
      "display_name": "Python 3"
    },
    "language_info": {
      "name": "python"
    }
  },
  "cells": [
    {
      "cell_type": "markdown",
      "metadata": {
        "id": "view-in-github",
        "colab_type": "text"
      },
      "source": [
        "<a href=\"https://colab.research.google.com/github/ztach/zaliczki/blob/main/zaliczki10_22sql.ipynb\" target=\"_parent\"><img src=\"https://colab.research.google.com/assets/colab-badge.svg\" alt=\"Open In Colab\"/></a>"
      ]
    },
    {
      "cell_type": "code",
      "execution_count": null,
      "metadata": {
        "id": "TLFVlXphdc9O"
      },
      "outputs": [],
      "source": [
        "import matplotlib.pyplot as plt\n",
        "import pandas as pd\n",
        "import numpy as np\n",
        "\n",
        "pd.options.display.float_format = '{:,.2f}'.format\n",
        "# pd.set_option('display.max_rows',None)\n",
        "# pd.set_option('display.max_columns',None)"
      ]
    },
    {
      "cell_type": "code",
      "source": [
        "pth='/content/drive/MyDrive/Colab Notebooks/'\n",
        "fil = 'zaliczki2010-2022.xlsx'\n",
        "url= pth + fil\n",
        "data_all = ['PrzedsiębiorstwoId','Zarządca','Indeks','Wspólnota','rok(Data Płatności)','miesiąc(Data Płatności)','Suma (Remont)','Suma (Ekspl.)','Suma (Woda)','Suma (C.O.)','Suma (Śmieci)','Suma (Eks_media)','Suma (Razem)','czyUżytkowy','Ile lok u zarządcy','Ile lok u repr','IleWspólnotNaDziś','Funkcja']\n",
        "data_dell = ['id','sfkprzedsiebiorstwoid','zarzadca','reprezentant','indeks','wspolnota','DataKsiegowania','eksm_media','razem','lokUz','dataWprowadzenia','lokale_u_zarz','lokale_u_repr','KtoKsiegowal','ile','fukcja','sfkdowodId']\n",
        "\n",
        "class GetExcel:\n",
        "    def __init__(self,url):\n",
        "        self.url = url\n",
        "        \n",
        "    def get_all_df(self):\n",
        "        return pd.read_excel(url)\n",
        "\n",
        "    def get_df(self,args):\n",
        "        return (pd\n",
        "                .read_excel(url)\n",
        "                .drop(columns=args)\n",
        "        )"
      ],
      "metadata": {
        "id": "TO37Y0g1djXn"
      },
      "execution_count": null,
      "outputs": []
    },
    {
      "cell_type": "code",
      "source": [
        "df = GetExcel(url)\n",
        "dz = df.get_df(data_dell)"
      ],
      "metadata": {
        "id": "OTeBL2CJdoKu"
      },
      "execution_count": null,
      "outputs": []
    },
    {
      "cell_type": "code",
      "source": [
        "dz['rok'] = pd.DatetimeIndex(dz['DataPlatnosci']).year \n",
        "dh = dz.drop(columns=['DataPlatnosci'])\n",
        "su = dh.query('rok > 2010').groupby('rok').sum()\n",
        "su"
      ],
      "metadata": {
        "id": "GDACk6U_fj_u"
      },
      "execution_count": null,
      "outputs": []
    },
    {
      "cell_type": "code",
      "source": [
        "rys1 = su.groupby(['rok']).agg(\n",
        "    # mc_count=('mc','count'),\n",
        "    rem_sum=('remont','sum'),\n",
        "    ekspl_sum=('ekspl','sum'),\n",
        "    woda_sum=('woda','sum'),\n",
        "    smieci_sum=('smieci','sum'),\n",
        "    co_sum=('co','sum'),\n",
        "    co_cor=('co','mean')\n",
        ")\n",
        "\n",
        "data = rys1[['rem_sum','ekspl_sum','woda_sum','smieci_sum','co_sum']]\n",
        "skala = 1.5\n",
        "lines = data.plot.line(figsize=(12*skala,9*skala))\n"
      ],
      "metadata": {
        "id": "aAklHErsdo6O"
      },
      "execution_count": null,
      "outputs": []
    },
    {
      "cell_type": "markdown",
      "source": [
        "Robię bazę danych"
      ],
      "metadata": {
        "id": "ekRBbC0EjgXi"
      }
    },
    {
      "cell_type": "code",
      "source": [
        "from sqlalchemy import create_engine\n",
        "pth='/content/drive/MyDrive/Colab Notebooks/'\n",
        "    \n",
        "engine = create_engine('sqlite:////'+pth+'test.db')"
      ],
      "metadata": {
        "id": "VKDG2peEfuQl"
      },
      "execution_count": null,
      "outputs": []
    },
    {
      "cell_type": "markdown",
      "source": [
        "ładuję do bazy tabele z zaliczkami:\n",
        "\n",
        "1.   'zaliczki_suma' - są to zaliczki zgrupowane wg. roku i zsumowane\n",
        "2.   'zaliczki'      - tu są wszystkie zaliczki \n",
        "3.   'zaliczki2011'  - tu mamy zaliczki od roku 2011 do 2022"
      ],
      "metadata": {
        "id": "7oIaMdgejl3W"
      }
    },
    {
      "cell_type": "code",
      "source": [
        "# su.to_sql('zaliczki_suma',con=engine)"
      ],
      "metadata": {
        "id": "gA-AiZ3Tf2Y9"
      },
      "execution_count": null,
      "outputs": []
    },
    {
      "cell_type": "code",
      "source": [
        "data_list = engine.execute(\"SELECT * FROM zaliczki_suma\").fetchall()\n",
        "# [print(dl) for dl in data_list]"
      ],
      "metadata": {
        "id": "lyZj5RvhgIgX"
      },
      "execution_count": null,
      "outputs": []
    },
    {
      "cell_type": "code",
      "source": [
        "# dh.to_sql('zaliczki',con=engine)"
      ],
      "metadata": {
        "id": "qdP0q7-ZhBxF"
      },
      "execution_count": null,
      "outputs": []
    },
    {
      "cell_type": "code",
      "source": [
        "# dh.query('rok > 2010').to_sql('zaliczki2011',con=engine)"
      ],
      "metadata": {
        "id": "ge-97EMbhTgN"
      },
      "execution_count": null,
      "outputs": []
    },
    {
      "cell_type": "markdown",
      "source": [
        "\n",
        "\n",
        "---\n",
        "\n"
      ],
      "metadata": {
        "id": "mKul6ncWkdOl"
      }
    },
    {
      "cell_type": "code",
      "source": [
        "# from sqlalchemy.sql import text\n",
        "\n",
        "# with engine.connect() as conn:\n",
        "#     with conn.execution_options(yield_per=100).execute(\n",
        "#         text(\"select * from zaliczki2011\")\n",
        "#     ) as result:\n",
        "#         for partition in result.partitions():\n",
        "#             # partition is an iterable that will be at most 100 items\n",
        "#             for row in partition:\n",
        "#                 print(f\"{row}\")\n",
        "\n"
      ],
      "metadata": {
        "id": "JnuRBS6WQSXn"
      },
      "execution_count": null,
      "outputs": []
    },
    {
      "cell_type": "markdown",
      "source": [
        "praca w SQL z utworzonymi powyżej tabelami w bazie sqlite\n",
        "\n",
        "wynik pobranych danych wrzucany do DataFrame i robiony jest wykres"
      ],
      "metadata": {
        "id": "TNfz2vv5kgm6"
      }
    },
    {
      "cell_type": "code",
      "source": [
        "result = engine.execute('SELECT rok,sum(remont) as remont, sum(ekspl) as ekspl, sum(woda) as woda, sum(co) as co, sum(smieci) as smieci FROM zaliczki2011 GROUP BY rok;')\n",
        "# [print(dl) for dl in result]\n",
        "dfr = pd.DataFrame(result)\n",
        "result.close()"
      ],
      "metadata": {
        "id": "cvhK6uatQ2Z9"
      },
      "execution_count": null,
      "outputs": []
    },
    {
      "cell_type": "code",
      "source": [
        "from sqlalchemy.sql.expression import column\n",
        "dfr.columns=['rok','remont','ekspl','woda','co', 'smieci']\n"
      ],
      "metadata": {
        "id": "zyrkBc0PYtzb"
      },
      "execution_count": null,
      "outputs": []
    },
    {
      "cell_type": "code",
      "source": [
        "skala = 1.01\n",
        "data = dfr[['remont','ekspl','woda','co', 'smieci']]\n",
        "# lines = data.plot.line(figsize=(12*skala,9*skala))\n"
      ],
      "metadata": {
        "id": "swyAVJSZg3ne"
      },
      "execution_count": null,
      "outputs": []
    },
    {
      "cell_type": "code",
      "source": [
        "plt.plot(dfr[['rok']],data)\n",
        "plt.title('zaliczki 2011-2022')\n",
        "plt.xlabel('rok')\n",
        "plt.ylabel('kasa')\n",
        "\n",
        "plt.show()"
      ],
      "metadata": {
        "id": "MzyQhC_LrYPf"
      },
      "execution_count": null,
      "outputs": []
    },
    {
      "cell_type": "code",
      "source": [
        "# help(plt.plot)"
      ],
      "metadata": {
        "id": "qjYhFdNkhKZo"
      },
      "execution_count": null,
      "outputs": []
    },
    {
      "cell_type": "code",
      "source": [],
      "metadata": {
        "id": "voGP87MfoB69"
      },
      "execution_count": null,
      "outputs": []
    }
  ]
}