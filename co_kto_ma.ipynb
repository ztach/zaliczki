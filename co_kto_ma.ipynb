{
  "nbformat": 4,
  "nbformat_minor": 0,
  "metadata": {
    "colab": {
      "private_outputs": true,
      "provenance": [],
      "mount_file_id": "1-8Z4lU-L1zpf1Vi69yoc35xcuYTJl80-",
      "authorship_tag": "ABX9TyMNr1nVrzE3dvkRCVqti9u+",
      "include_colab_link": true
    },
    "kernelspec": {
      "name": "python3",
      "display_name": "Python 3"
    },
    "language_info": {
      "name": "python"
    }
  },
  "cells": [
    {
      "cell_type": "markdown",
      "metadata": {
        "id": "view-in-github",
        "colab_type": "text"
      },
      "source": [
        "<a href=\"https://colab.research.google.com/github/ztach/zaliczki/blob/main/co_kto_ma.ipynb\" target=\"_parent\"><img src=\"https://colab.research.google.com/assets/colab-badge.svg\" alt=\"Open In Colab\"/></a>"
      ]
    },
    {
      "cell_type": "code",
      "execution_count": null,
      "metadata": {
        "id": "TLFVlXphdc9O"
      },
      "outputs": [],
      "source": [
        "import matplotlib.pyplot as plt\n",
        "import pandas as pd\n",
        "import numpy as np\n",
        "\n",
        "pd.options.display.float_format = '{:,.2f}'.format\n",
        "# pd.set_option('display.max_rows',None)\n",
        "# pd.set_option('display.max_columns',None)"
      ]
    },
    {
      "cell_type": "code",
      "source": [
        "pth='/content/drive/MyDrive/Colab Notebooks/'\n",
        "fil = 'co-kto-ma.xlsx'\n",
        "url= pth + fil\n",
        "data_all = ['PrzedsiębiorstwoId','Zarządca','Indeks','Wspólnota','rok(Data Płatności)','miesiąc(Data Płatności)','Suma (Remont)','Suma (Ekspl.)','Suma (Woda)','Suma (C.O.)','Suma (Śmieci)','Suma (Eks_media)','Suma (Razem)','czyUżytkowy','Ile lok u zarządcy','Ile lok u repr','IleWspólnotNaDziś','Funkcja']\n",
        "data_dell = ['id','sfkprzedsiebiorstwoid','zarzadca','reprezentant','indeks','wspolnota','DataKsiegowania','eksm_media','razem','lokUz','dataWprowadzenia','lokale_u_zarz','lokale_u_repr','KtoKsiegowal','ile','fukcja','sfkdowodId']\n",
        "\n",
        "class GetExcel:\n",
        "    def __init__(self,url):\n",
        "        self.url = url\n",
        "        \n",
        "    def get_all_df(self):\n",
        "        return pd.read_excel(url)\n",
        "\n",
        "    def get_df(self,args):\n",
        "        return (pd\n",
        "                .read_excel(url)\n",
        "                .drop(columns=args)\n",
        "        )"
      ],
      "metadata": {
        "id": "TO37Y0g1djXn"
      },
      "execution_count": null,
      "outputs": []
    },
    {
      "cell_type": "code",
      "source": [
        "df = GetExcel(url)\n",
        "dz = df.get_all_df()"
      ],
      "metadata": {
        "id": "OTeBL2CJdoKu"
      },
      "execution_count": null,
      "outputs": []
    },
    {
      "cell_type": "code",
      "source": [
        "dz"
      ],
      "metadata": {
        "id": "GDACk6U_fj_u"
      },
      "execution_count": null,
      "outputs": []
    },
    {
      "cell_type": "markdown",
      "source": [
        "Robię bazę danych"
      ],
      "metadata": {
        "id": "ekRBbC0EjgXi"
      }
    },
    {
      "cell_type": "code",
      "source": [
        "from sqlalchemy import create_engine\n",
        "pth='/content/drive/MyDrive/Colab Notebooks/'\n",
        "db = 'co-kto-ma.db'\n",
        "    \n",
        "engine = create_engine('sqlite:////'+pth+db)"
      ],
      "metadata": {
        "id": "VKDG2peEfuQl"
      },
      "execution_count": null,
      "outputs": []
    },
    {
      "cell_type": "markdown",
      "source": [
        "ładuję do bazy tabele z zaliczkami:\n",
        "instrukcja: \n",
        "dz - to DataFrame - może być obrobiony tzn. pogrupowany posumowany itp.\n",
        "dz.to_sql('table') - instrukcja robiąca tabelę w bazie\n",
        "                 - a 'table' to nazwa utowrzonej tabeli\n",
        "\n",
        "***system nie pozwoli założyć kilku tabel o tej samej nazwie***\n",
        "\n",
        "**dlatego są zakomentowane**"
      ],
      "metadata": {
        "id": "7oIaMdgejl3W"
      }
    },
    {
      "cell_type": "code",
      "source": [
        "# dz.to_sql('co-kto-ma',con=engine)"
      ],
      "metadata": {
        "id": "gA-AiZ3Tf2Y9"
      },
      "execution_count": null,
      "outputs": []
    },
    {
      "cell_type": "markdown",
      "source": [
        "przykład zrobienia tabeli z filtrem \n",
        "\n",
        "biorę swoje budynki"
      ],
      "metadata": {
        "id": "kNT_Wwbj_08G"
      }
    },
    {
      "cell_type": "code",
      "source": [
        "# dz.query('R_inicjal == \"SO\"').to_sql('wspolnoty_stasia',con=engine)"
      ],
      "metadata": {
        "id": "ge-97EMbhTgN"
      },
      "execution_count": null,
      "outputs": []
    },
    {
      "cell_type": "markdown",
      "source": [
        "praca w SQL z utworzonymi powyżej tabelami w bazie sqlite\n",
        "\n",
        "wynik pobranych danych wrzucany do DataFrame i robimy co chcemy"
      ],
      "metadata": {
        "id": "TNfz2vv5kgm6"
      }
    },
    {
      "cell_type": "code",
      "source": [
        "result = engine.execute('SELECT * FROM \"co-kto-ma\";')\n",
        "# [print(dl) for dl in result]\n",
        "dfr = pd.DataFrame(result)\n",
        "result.close()"
      ],
      "metadata": {
        "id": "cvhK6uatQ2Z9"
      },
      "execution_count": null,
      "outputs": []
    },
    {
      "cell_type": "code",
      "source": [
        "dfr"
      ],
      "metadata": {
        "id": "voGP87MfoB69"
      },
      "execution_count": null,
      "outputs": []
    },
    {
      "cell_type": "code",
      "source": [],
      "metadata": {
        "id": "xh7IYN-UCTJD"
      },
      "execution_count": null,
      "outputs": []
    }
  ]
}